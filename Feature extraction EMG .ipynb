{
 "cells": [
  {
   "cell_type": "markdown",
   "metadata": {},
   "source": [
    "Задача по извлечению фич из ЭМГ.\n",
    "Основная статья\n",
    "https://www.researchgate.net/publication/325226027_Feature_Extraction_and_Selection_for_Myoelectric_Control_Based_on_Wearable_EMG_Sensors\n",
    "\n",
    "1. Фичи, харктеризующие мощность и амплитуду сигнала\n",
    "\n",
    "    Integrated Absolute Value IAV\n",
    "    \n",
    "    Mean Absolute Value MAV\n",
    "    \n",
    "    #### Root Mean Square RMS\n",
    "    \n",
    "    #### Variance VAR\n",
    "    \n",
    "    #### Waveform Length WL\n",
    "    \n",
    "    Log Detector LD\n",
    "    \n",
    "    #### Difference Absolute Mean Value DAMV\n",
    "    \n",
    "    #### Differebce Absolute Standard Deviation Value DASDV\n",
    "    \n",
    "    #### Differebce Variance Value DVARV\n",
    "    \n",
    "    #### Mean Value of Square Root MSR\n",
    "    \n",
    "    #### L-scale LS \n",
    "\n",
    "2. Фичи, характеризующие нелинейность и частотную информацию\n",
    "\n",
    "    #### Maximum Fractal Length MFL\n",
    "    \n",
    "    https://www.mdpi.com/2079-3197/7/1/12/htm\n",
    "    \n",
    "    Detrended fluctuation analysis DFA\n",
    "    \n",
    "    Sample Entropy SampEn\n",
    "    \n",
    "    #### Zero Crossing ZC\n",
    "    \n",
    "    Slope Sign Change SSC\n",
    "    \n",
    "    #### Willison Amplitude WAMP\n",
    "    \n",
    "    Median Frequency MDF\n",
    "    \n",
    "    Mean Frequency MNF\n",
    "    \n",
    "3. Фичи, использующие ЭМГ как временные ряды\n",
    "\n",
    "    Autoregressive Coefficients AR\n",
    "    \n",
    "    Cepstrum Coefficients CC\n",
    "    \n",
    "    Разного порядка 4 6 9\n",
    "   \n",
    "4. Уникальные\n",
    "\n",
    "    HIST - расширение ZC и WAMP 9 data bins\n",
    "    \n",
    "Предложенные группы фичей\n",
    "1. MAV WL ZC SSC\n",
    "2. RMS AR6\n",
    "3. MAV WL ZC SSC RMS AR6\n",
    "4. AR4 HIST9\n",
    "5. WL LD SSC AR9\n",
    "6. WL SSC AR9 CC9\n",
    "7. RMS VAR LD HIST9\n",
    "8. WL RMS SampEn CC4\n",
    "\n",
    "Предложенные комбинации для myo (через forward feature selection)\n",
    "1. LS + MFL + MSR + WAMP \n",
    "2. + ZC + RMS + IAV + DASDV + VAR \n",
    "\n",
    "Частота сэмплов 200 Гц и 1000 Гц\n",
    "SVM linear kernel\n",
    "\n",
    "Выводы\n",
    "Для данных с разной частотой производительность фич отличается.\n",
    "Хорошо работают фичи первой группы. \n",
    "Фичи третьей группы лучше для частоты 1000 Гц"
   ]
  },
  {
   "cell_type": "markdown",
   "metadata": {
    "collapsed": true
   },
   "source": [
    "Датасеты ninaPro\n",
    "\n",
    "1. 52 движения, 27 человек. Нужны столбцы 12 emg, stimulus (что пытались повторить), restimulus(что в итоге повторили). Otto Bock. Повторение движения 10 раз. 100 Гц\n",
    "\n",
    "2. 40 человек, Delsys, 49 движений, повторение 6 раз 2000 Гц\n",
    "3. То же, что и 2, но 11 инвалидов 2000 Гц\n",
    "\n",
    "4. Cometa 10 человек 2000 Гц\n",
    "5. Myo 10 человек 200 Гц\n",
    "\n",
    "6. 10 человек в течение 5 дней. Delsys Для изучения воспроизводимости 2000 Гц\n",
    "\n",
    "7. 20 человек 2 инвалида 40 классов Delsys 2000 Гц"
   ]
  },
  {
   "cell_type": "code",
   "execution_count": 37,
   "metadata": {},
   "outputs": [],
   "source": [
    "#Загрузим несколько файлов датасета\n",
    "import scipy.io\n",
    "data1 = scipy.io.loadmat('DB2_s4/S4_E1_A1.mat')\n",
    "data2 = scipy.io.loadmat('DB2_s4/S4_E2_A1.mat')\n",
    "data3 = scipy.io.loadmat('DB2_s4/S4_E3_A1.mat')\n",
    "\n",
    "#Файлы E1 E2 E3 - классы упражнений"
   ]
  },
  {
   "cell_type": "code",
   "execution_count": 72,
   "metadata": {},
   "outputs": [],
   "source": [
    "def from_mat_to_numpy(data):\n",
    "    \"\"\"\n",
    "    Функция для формирования датасета в виде, который можно скормить классификатору.\n",
    "    \n",
    "    data - словарь, полученный в результате чтения .mat файла. Ключи в нём - названия, значения - значения в виде numpy массивов.\n",
    "    Интересующие нас:\n",
    "        emg - сигнал\n",
    "        stimulus - номер выполняемого движения\n",
    "        repetition - номер повтора движения\n",
    "        restimulus - номер движения по факту\n",
    "        \n",
    "    Сигнал, соотв. одному и тому же повторению и движению, склеиваем в один. И сопоставляем соотв.номер движения и повторения.\n",
    "    Пропускаем моменты отдыха (движение 0).\n",
    "    \"\"\"\n",
    "    \n",
    "    emg = data1['emg']\n",
    "    target = data1['stimulus']\n",
    "    repetition = data1['repetition']\n",
    "    restimulus = data1['restimulus']\n",
    "    \n",
    "    n = emg.shape[0]\n",
    "    \n",
    "    curr_target = 0\n",
    "    curr_rep = 0\n",
    "    current_emg = []\n",
    "    preprocess_data = [[] for i in range(17*6)]\n",
    "    index = 0\n",
    "    for i in range(n):\n",
    "        if target[i][0] == curr_target and repetition[i][0] == curr_rep:\n",
    "            if curr_target != 0 and curr_rep != 0:\n",
    "                current_emg.extend(emg[i])\n",
    "        else:\n",
    "            if curr_target != 0 and curr_rep != 0:\n",
    "                current_emg.append(curr_target)\n",
    "                current_emg.append(curr_rep)\n",
    "                preprocess_data[index] = current_emg\n",
    "                index += 1\n",
    "            curr_target = target[i][0]\n",
    "            curr_rep = repetition[i][0]\n",
    "            current_emg = list(emg[i])\n",
    "    return preprocess_data"
   ]
  },
  {
   "cell_type": "code",
   "execution_count": 73,
   "metadata": {},
   "outputs": [],
   "source": [
    "new_data = from_mat_to_numpy(data1)"
   ]
  },
  {
   "cell_type": "code",
   "execution_count": 85,
   "metadata": {},
   "outputs": [
    {
     "name": "stdout",
     "output_type": "stream",
     "text": [
      "102\n",
      "139418\n",
      "131294\n"
     ]
    }
   ],
   "source": [
    "print(len(new_data))\n",
    "print(len(new_data[0]))\n",
    "print(len(new_data[1]))"
   ]
  },
  {
   "cell_type": "code",
   "execution_count": 3,
   "metadata": {
    "collapsed": true
   },
   "outputs": [],
   "source": [
    "import numpy as np"
   ]
  },
  {
   "cell_type": "code",
   "execution_count": 77,
   "metadata": {
    "collapsed": true
   },
   "outputs": [],
   "source": [
    "class feature_exctraction:\n",
    "    \"\"\"\n",
    "    Feature extraction from EMG signal class.\n",
    "    Fields: \n",
    "        rate - rate of emg signal in Hz, \n",
    "        window_size - width of window in ms, from which one value of new feature will be computed\n",
    "        overlap - in ms, overlap of windows\n",
    "    \"\"\"\n",
    "    def __init__(self, rate, window_size, overlap):\n",
    "        self.rate = rate\n",
    "        self.window_len = int(self.rate/1000*window_size)  # Соотв. длина окна\n",
    "        self.overlap_len = int(self.rate/1000*overlap)  # Соотв. длина пересечения\n",
    "        \n",
    "    def integrated_absolute_value(self, emg):\n",
    "        \"\"\"\n",
    "        Compute integrated absolute value of emg signal.\n",
    "        Parameters:\n",
    "            emg - numpy array of size (number_of_samples, length_of_signal)\n",
    "        Return:\n",
    "            numpy array with new feature\n",
    "        \"\"\"\n",
    "        number_of_samples, signal_len = emg.shape\n",
    "        X = [[] for _ in range(number_of_samples)]\n",
    "        for j in range(number_of_samples):\n",
    "            # Считаем количество сегментов для вычисления фичи\n",
    "            n = (signal_len - self.window_len)//(self.window_len - self.overlap_len) + 1\n",
    "            IAV_feature = []\n",
    "            # Для каждого сегмента вычисляем нужное значение и записываем его в вектор\n",
    "            for i in range(n):\n",
    "                start = i*(self.window_len - self.overlap_len)\n",
    "                segment = emg[j][start:start+self.window_len]\n",
    "                IAV_feature.append(sum([abs(s) for s in segment]))\n",
    "            X[j] = IAV_feature\n",
    "        return np.array(X)\n",
    "    \n",
    "    def mean_absolute_value(self, emg):\n",
    "        \"\"\"\n",
    "        Compute mean absolute value of emg signal.\n",
    "        Parameters:\n",
    "            emg - numpy array of size (number_of_samples, length_of_signal)\n",
    "        Return:\n",
    "            numpy array with new feature\n",
    "        \"\"\"\n",
    "        number_of_samples, signal_len = emg.shape\n",
    "        X = [[] for _ in range(number_of_samples)]\n",
    "        for j in range(number_of_samples):\n",
    "            # Считаем количество сегментов для вычисления фичи\n",
    "            n = (signal_len - self.window_len)//(self.window_len - self.overlap_len) + 1\n",
    "            MAV_feature = []\n",
    "            # Для каждого сегмента вычисляем нужное значение и записываем его в вектор\n",
    "            for i in range(n):\n",
    "                start = i*(self.window_len - self.overlap_len)\n",
    "                segment = emg[j][start:start+self.window_len]\n",
    "                MAV_feature.append(sum([abs(s) for s in segment])/len(segment))\n",
    "            X[j] = MAV_feature\n",
    "        return np.array(X)\n",
    "    \n",
    "    def integrated_absolute_value(self, emg):\n",
    "        \"\"\"\n",
    "        Compute integrated absolute value of emg signal.\n",
    "        Parameters:\n",
    "            emg - numpy array of size (number_of_samples, length_of_signal)\n",
    "        Return:\n",
    "            numpy array with new feature\n",
    "        \"\"\"\n",
    "        number_of_samples, signal_len = emg.shape\n",
    "        X = [[] for _ in range(number_of_samples)]\n",
    "        for j in range(number_of_samples):\n",
    "            # Считаем количество сегментов для вычисления фичи\n",
    "            n = (signal_len - self.window_len)//(self.window_len - self.overlap_len) + 1\n",
    "            IAV_feature = []\n",
    "            # Для каждого сегмента вычисляем нужное значение и записываем его в вектор\n",
    "            for i in range(n):\n",
    "                start = i*(self.window_len - self.overlap_len)\n",
    "                segment = emg[j][start:start+self.window_len]\n",
    "                IAV_feature.append(sum([abs(s) for s in segment]))\n",
    "            X[j] = IAV_feature\n",
    "        return np.array(X)"
   ]
  },
  {
   "cell_type": "code",
   "execution_count": 80,
   "metadata": {
    "scrolled": true
   },
   "outputs": [
    {
     "name": "stdout",
     "output_type": "stream",
     "text": [
      "[[ 3  6  9  8 10 12  9  5  3]]\n",
      "[[ 1.5  3.   4.5  4.   5.   6.   4.5  2.5  1.5]]\n"
     ]
    }
   ],
   "source": [
    "#Test\n",
    "emg_1 = np.array([[-1, -2, 4, 5, -3, 7, -5, 4, 1, 2]])\n",
    "X = feature_exctraction(1000, 2, 1).integrated_absolute_value(emg_1)\n",
    "Y = feature_exctraction(1000, 2, 1).mean_absolute_value(emg_1)\n",
    "print(X)\n",
    "print(Y)"
   ]
  },
  {
   "cell_type": "code",
   "execution_count": 9,
   "metadata": {
    "collapsed": true
   },
   "outputs": [],
   "source": []
  },
  {
   "cell_type": "code",
   "execution_count": null,
   "metadata": {
    "collapsed": true
   },
   "outputs": [],
   "source": []
  }
 ],
 "metadata": {
  "kernelspec": {
   "display_name": "Python 3",
   "language": "python",
   "name": "python3"
  },
  "language_info": {
   "codemirror_mode": {
    "name": "ipython",
    "version": 3
   },
   "file_extension": ".py",
   "mimetype": "text/x-python",
   "name": "python",
   "nbconvert_exporter": "python",
   "pygments_lexer": "ipython3",
   "version": "3.6.2"
  }
 },
 "nbformat": 4,
 "nbformat_minor": 2
}
