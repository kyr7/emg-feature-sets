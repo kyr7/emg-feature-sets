{
 "cells": [
  {
   "cell_type": "markdown",
   "metadata": {},
   "source": [
    "Задача по извлечению фич из ЭМГ.\n",
    "Основная статья\n",
    "https://www.researchgate.net/publication/325226027_Feature_Extraction_and_Selection_for_Myoelectric_Control_Based_on_Wearable_EMG_Sensors\n",
    "\n",
    "1. Фичи, харктеризующие мощность и амплитуду сигнала\n",
    "\n",
    "    Integrated Absolute Value IAV\n",
    "    \n",
    "    Mean Absolute Value MAV\n",
    "    \n",
    "    Root Mean Square RMS\n",
    "    \n",
    "    Variance VAR\n",
    "    \n",
    "    Waveform Length WL\n",
    "    \n",
    "    Log Detector LD\n",
    "    \n",
    "    Difference Absolute Mean Value DAMV\n",
    "    \n",
    "    Differebce Absolute Standard Deviation Value DASDV\n",
    "    \n",
    "    Differebce Variance Value DVARV\n",
    "    \n",
    "    Mean Value of Square Root MSR\n",
    "    \n",
    "    L-scale LS \n",
    "\n",
    "2. Фичи, характеризующие нелинейность и частотную информацию\n",
    "\n",
    "    Maximum Fractal Length MFL\n",
    "    \n",
    "    https://www.mdpi.com/2079-3197/7/1/12/htm\n",
    "    \n",
    "    Detrended fluctuation analysis DFA\n",
    "    \n",
    "    Sample Entropy SampEn\n",
    "    \n",
    "    Zero Crossing ZC\n",
    "    \n",
    "    Slope Sign Change SSC\n",
    "    \n",
    "    Willison Amplitude WAMP\n",
    "    \n",
    "    Median Frequency MDF\n",
    "    \n",
    "    Mean Frequency MNF\n",
    "    \n",
    "3. Фичи, использующие ЭМГ как временные ряды\n",
    "\n",
    "    Autoregressive Coefficients AR\n",
    "    \n",
    "    Cepstrum Coefficients CC\n",
    "    \n",
    "    Разного порядка 4 6 9\n",
    "   \n",
    "4. Уникальные\n",
    "\n",
    "    HIST - расширение ZC и WAMP 9 data bins\n",
    "    \n",
    "Предложенные группы фичей\n",
    "1. MAV WL ZC SSC\n",
    "2. RMS AR6\n",
    "3. MAV WL ZC SSC RMS AR6\n",
    "4. AR4 HIST9\n",
    "5. WL LD SSC AR9\n",
    "6. WL SSC AR9 CC9\n",
    "7. RMS VAR LD HIST9\n",
    "8. WL RMS SampEn CC4\n",
    "\n",
    "\n",
    "Частота сэмплов 200 Гц и 1000 Гц\n",
    "SVM linear kernel\n",
    "\n",
    "Выводы\n",
    "Для данных с разной частотой производительность фич отличается.\n",
    "Хорошо работают фичи первой группы. \n",
    "Фичи третьей группы лучше для частоты 1000 Гц"
   ]
  },
  {
   "cell_type": "markdown",
   "metadata": {
    "collapsed": true
   },
   "source": [
    "Датасеты ninaPro\n",
    "\n",
    "1. 52 движения, 27 человек. Нужны столбцы 12 emg, stimulus (что пытались повторить), restimulus(что в итоге повторили). Otto Bock. Повторение движения 10 раз. 100 Гц\n",
    "\n",
    "2. 40 человек, Delsys, 49 движений, повторение 6 раз 2000 Гц\n",
    "3. То же, что и 2, но 11 инвалидов 2000 Гц\n",
    "\n",
    "4. Cometa 10 человек 2000 Гц\n",
    "5. Myo 10 человек 200 Гц\n",
    "\n",
    "6. 10 человек в течение 5 дней. Delsys Для изучения воспроизводимости 2000 Гц\n",
    "\n",
    "7. 20 человек 2 инвалида 40 классов Delsys 2000 Гц"
   ]
  },
  {
   "cell_type": "code",
   "execution_count": 2,
   "metadata": {
    "collapsed": true
   },
   "outputs": [],
   "source": [
    "#Загрузим несколько файлов датасета\n",
    "import scipy.io\n",
    "data1 = scipy.io.loadmat('s1/S1_E1_A1.mat')\n",
    "#data2 = scipy.io.loadmat('DB2_s4/S4_E2_A1.mat')\n",
    "#data3 = scipy.io.loadmat('DB2_s4/S4_E3_A1.mat')\n",
    "\n",
    "#Файлы E1 E2 E3 - классы упражнений\n",
    "#E1 - разные жесты из серии камень/ножницы/бумага\n",
    "#E2 - разные хватания: бутылки, карандаша и тп\n",
    "#E3 - более мелкие движения типа печатания на клавиатуре"
   ]
  },
  {
   "cell_type": "code",
   "execution_count": 1,
   "metadata": {
    "collapsed": true
   },
   "outputs": [],
   "source": [
    "import numpy as np"
   ]
  },
  {
   "cell_type": "code",
   "execution_count": 2,
   "metadata": {
    "collapsed": true
   },
   "outputs": [],
   "source": [
    "def from_mat_to_numpy(data):\n",
    "    \"\"\"\n",
    "    Функция для формирования датасета в виде, который можно скормить классификатору.\n",
    "    \n",
    "    data - словарь, полученный в результате чтения .mat файла. Ключи в нём - названия, значения - значения в виде numpy массивов.\n",
    "    Интересующие нас:\n",
    "        emg - сигнал\n",
    "        stimulus - номер выполняемого движения\n",
    "        repetition - номер повтора движения\n",
    "        \n",
    "    Сигнал, соотв. одному и тому же повторению и движению, склеиваем в один. И сопоставляем соотв.номер движения и повторения.\n",
    "    Пропускаем моменты отдыха (движение 0).\n",
    "    И ещё обрезаем до одинаковой длины 5с или 12*10000 значений.\n",
    "    \"\"\"\n",
    "    #Длина желаемой ЭМГ в секундах\n",
    "    EMG_LEN = 5\n",
    "    #Частота записи ЭМГ в Гц\n",
    "    EMG_RATE = 2000\n",
    "    #Количество каналов при записи\n",
    "    EMG_CHANNELS = 12\n",
    "    emg = data['emg']\n",
    "    target = data['stimulus']\n",
    "    repetition = data['repetition']\n",
    "    \n",
    "    n = emg.shape[0]\n",
    "    \n",
    "    curr_target = 0\n",
    "    curr_rep = 0\n",
    "    current_emg = np.array([])\n",
    "    preprocess_data = np.zeros(shape=(17*6, EMG_LEN*EMG_RATE*EMG_CHANNELS + 2))\n",
    "    index = 0\n",
    "    for i in range(n):\n",
    "        if target[i][0] == curr_target and repetition[i][0] == curr_rep:\n",
    "            if curr_target != 0 and curr_rep != 0:\n",
    "                current_emg = np.append(current_emg, emg[i])\n",
    "        else:\n",
    "            if curr_target != 0 and curr_rep != 0:\n",
    "                diff = current_emg.shape[0] - EMG_RATE*EMG_LEN*EMG_CHANNELS\n",
    "                if diff > 0:\n",
    "                    begin = diff//2   \n",
    "                    end = current_emg.shape[0] - diff + begin\n",
    "                current_emg = current_emg[begin:end]    \n",
    "                current_emg = np.append(current_emg, curr_target)\n",
    "                current_emg = np.append(current_emg, curr_rep)\n",
    "                preprocess_data[index] = current_emg\n",
    "                index += 1\n",
    "            curr_target = target[i][0]\n",
    "            curr_rep = repetition[i][0]\n",
    "            current_emg = emg[i]\n",
    "    return preprocess_data"
   ]
  },
  {
   "cell_type": "code",
   "execution_count": null,
   "metadata": {
    "collapsed": true
   },
   "outputs": [],
   "source": [
    "\"\"\"\n",
    "Сделать обучение, выделяя фичи из рандомных окон в 100 мс, посмотреть, что будет получаться.\n",
    "Для различных n.\n",
    "Для различных наборов фичей\n",
    "Для 1000 и 2000\n",
    "\n",
    "1. Реализовать одну группу фичей\n",
    "2. Реализовать рандомное выделение фичей в зав. от n\n",
    "3. Поделить на трэйн-тест. Выделять фичи в зав. от n для трэйна и теста. Обучиться, запомнить результат.\n",
    "4. Построить график\n",
    "\"\"\""
   ]
  },
  {
   "cell_type": "code",
   "execution_count": 8,
   "metadata": {
    "collapsed": true
   },
   "outputs": [],
   "source": [
    "import numpy as np"
   ]
  },
  {
   "cell_type": "code",
   "execution_count": 36,
   "metadata": {
    "collapsed": true
   },
   "outputs": [],
   "source": [
    "#Скрипт для обработки данных\n",
    "#Проходимся по папкам с датасетом, открываем файлы, обрабатываем в нужный вид и сохраняем все npy.\n",
    "def process_mat_files(path):\n",
    "    file_name = \"/DB2_s{n:d}/S{n:d}_E1_A1.mat\"\n",
    "    #processed_file_name = \"/processed/S{n:d}_E1_A1\"\n",
    "    file_path = path + file_name\n",
    "    processed_files = from_mat_to_numpy(scipy.io.loadmat(file_path.format(n=1)))\n",
    "    for i in range(2, 41):\n",
    "        current_file_path = file_path.format(n=i)\n",
    "        current_file = scipy.io.loadmat(current_file_path)\n",
    "        processed_files = np.concatenate((processed_files, from_mat_to_numpy(current_file)), axis=0)\n",
    "        print(i)\n",
    "    np.save(path + '/dataset', processed_files)"
   ]
  },
  {
   "cell_type": "code",
   "execution_count": null,
   "metadata": {},
   "outputs": [],
   "source": [
    "process_mat_files(\"data/ninaPro/DB2\")"
   ]
  },
  {
   "cell_type": "code",
   "execution_count": 2,
   "metadata": {
    "collapsed": true
   },
   "outputs": [],
   "source": [
    "from scipy import signal"
   ]
  },
  {
   "cell_type": "code",
   "execution_count": 3,
   "metadata": {
    "collapsed": true
   },
   "outputs": [],
   "source": [
    "#Реализация фильтров для ЭМГ\n",
    "def notch(data, val = 50, fs = 2000):\n",
    "    notch_freq_Hz = np.array([float(val)])\n",
    "    for freq_Hz in np.nditer(notch_freq_Hz):\n",
    "        bp_stop_Hz = freq_Hz + 3.0 * np.array([-1, 1])\n",
    "        b, a = signal.butter(3, bp_stop_Hz / (fs / 2.0), 'bandstop')\n",
    "        fin = data = signal.lfilter(b, a, data)\n",
    "    return fin\n",
    "    \n",
    "def bandpass(data, start = 5, stop = 999, fs = 2000):\n",
    "    bp_Hz = np.array([start, stop])\n",
    "    b, a = signal.butter(5, bp_Hz / (fs / 2.0), btype='bandpass')\n",
    "    return signal.lfilter(b, a, data, axis=0)"
   ]
  },
  {
   "cell_type": "code",
   "execution_count": 4,
   "metadata": {
    "collapsed": true
   },
   "outputs": [],
   "source": [
    "#Реализация фичей\n",
    "def integrated_absolute_value(segment):\n",
    "    \"\"\"\n",
    "    Функция вычисления фичи IAV для конкретного сегмента.\n",
    "    Площадь под кривой ЭМГ (мощность)\n",
    "    \"\"\"\n",
    "    return sum([abs(s) for s in segment])\n",
    "\n",
    "def mean_absolute_value(segment):\n",
    "    \"\"\"\n",
    "    Функция вычисления фичи MAV для конкретного сегмента.\n",
    "    Среднее значение сигнала по модулю.\n",
    "    \"\"\"\n",
    "    return sum([abs(s) for s in segment])/len(segment)\n",
    "\n",
    "def waveform_length(segment):\n",
    "    \"\"\"\n",
    "    Функция вычисления фичи WL для конкретного сегмента.\n",
    "    Суммарная длина сигнала. Сумма разностей соседних значений.\n",
    "    \"\"\"\n",
    "    n = len(segment)\n",
    "    wl = 0\n",
    "    for i in range(1, n):\n",
    "        wl += abs(segment[i] - segment[i-1])\n",
    "    return wl\n",
    "\n",
    "def zero_crossing(segment):\n",
    "    \"\"\"\n",
    "    Функция вычисления фичи ZC для конкретного сегмента.\n",
    "    Количество раз, когда сигнал пересекает ноль. Частотная информация.\n",
    "    \"\"\"\n",
    "    #Можно задать e - погрешность на шумы и добавить условие |x_k - x_(k+1)| >= e.\n",
    "    n = len(segment)\n",
    "    zc = 0\n",
    "    for i in range(n - 1):\n",
    "        if segment[i] * segment[i+1] < 0:\n",
    "            zc += 1\n",
    "    return zc\n",
    "\n",
    "def slope_sign_changes(segment):\n",
    "    \"\"\"\n",
    "    Функция вычисления фичи SSC для конкретного сегмента. \n",
    "    Количество раз, когда сигнал меняет возрастание/убывание.\n",
    "    Как и ZC выделяет частотную информацию. \n",
    "    \"\"\"\n",
    "    n = len(segment)\n",
    "    ssc = 0\n",
    "    for i in range(1, n-1):\n",
    "        if segment[i-1] < segment[i] and segment[i] > segment[i+1] or segment[i-1] > segment[i] and segment[i] < segment[i+1]:\n",
    "            ssc += 1\n",
    "    return ssc"
   ]
  },
  {
   "cell_type": "code",
   "execution_count": 5,
   "metadata": {
    "collapsed": true
   },
   "outputs": [],
   "source": [
    "from sklearn.preprocessing import MinMaxScaler"
   ]
  },
  {
   "cell_type": "code",
   "execution_count": 62,
   "metadata": {
    "collapsed": true
   },
   "outputs": [],
   "source": [
    "class random_feature_exctraction:\n",
    "    \"\"\"\n",
    "    Класс для извлечения фичей из ЭМГ.\n",
    "    Fields: \n",
    "        rate - частота ЭМГ в Гц, \n",
    "        window_size - ширина окна, по которому вычисляется фича, в мс\n",
    "        n_channels - количество каналов ЭМГ\n",
    "        window_begin - индекс начала окна\n",
    "        features_list - список фичей, которые хотим извлечь\n",
    "    \"\"\"\n",
    "    def __init__(self, rate, window_size, n_channels, window_begin, features_list):\n",
    "        self.rate = rate\n",
    "        self.window_len = int(self.rate/1000*window_size)  # Соотв. длина окна для одного канала\n",
    "        self.n_channels = n_channels\n",
    "        self.features_list = features_list\n",
    "        self.window_begin = window_begin\n",
    "    \n",
    "    def exctract(self, emg):\n",
    "        \"\"\"\n",
    "        Извлекает фичи из features_list для каждого канала из окна размера window_size с началом window_begin.\n",
    "        Parameters:\n",
    "            emg - numpy array of size (number_of_samples, length_of_signal)\n",
    "            One row of emg:\n",
    "             channel_1_value_1 channel_2_value_1 ... channel_m_value_1 channel_1value_2 ...\n",
    "        Return:\n",
    "            numpy array with new features\n",
    "            Each row of emg is processed:\n",
    "             channel_1_feature_1 channel_1_feature2 ... channel_1_feature_n channel_2_feature_1 .... channel_m_feature_n\n",
    "\n",
    "        \"\"\"\n",
    "        number_of_samples, signal_len = emg.shape\n",
    "        X = [[] for _ in range(number_of_samples)]\n",
    "        for j in range(number_of_samples):\n",
    "            feature_vector = []\n",
    "            #Для каждого канала\n",
    "            for channel in range(self.n_channels):\n",
    "                step = self.n_channels\n",
    "                #Выделяем значения одного канала с учетом желаемой частоты\n",
    "                channel_emg = emg[j][channel::step]\n",
    "                # Для сегмента [window_begin:window_begin+window_len] вычисляем значения фичей и записываем их в вектор\n",
    "                begin = self.window_begin\n",
    "                end = begin + self.window_len\n",
    "                segment = channel_emg[begin:end]\n",
    "                for f in self.features_list:\n",
    "                    feature_vector.append(f(segment))\n",
    "            X[j] = feature_vector\n",
    "        return np.array(X)"
   ]
  },
  {
   "cell_type": "code",
   "execution_count": 9,
   "metadata": {},
   "outputs": [
    {
     "name": "stdout",
     "output_type": "stream",
     "text": [
      "(4080, 120002)\n"
     ]
    }
   ],
   "source": [
    "#Загрузим весь датасет\n",
    "data = np.load('data/ninaPro/DB2/dataset.npy')\n",
    "print(data.shape)"
   ]
  },
  {
   "cell_type": "code",
   "execution_count": 10,
   "metadata": {},
   "outputs": [
    {
     "name": "stdout",
     "output_type": "stream",
     "text": [
      "(1680, 120002)\n"
     ]
    }
   ],
   "source": [
    "#Возьмем пока 7 классов 1..7\n",
    "n, m = data.shape\n",
    "idx_to_del = []\n",
    "classes = [1, 2, 3, 4, 5, 6, 7]\n",
    "for i in range(n):\n",
    "    if (data[i][120000] not in classes):\n",
    "        idx_to_del.append(i)\n",
    "data = np.delete(data, idx_to_del, axis=0)\n",
    "print(data.shape)"
   ]
  },
  {
   "cell_type": "code",
   "execution_count": 53,
   "metadata": {
    "collapsed": true
   },
   "outputs": [],
   "source": [
    "def filter_emg(X):\n",
    "    #Для каждого повторения и класса применяем фильтр\n",
    "    n, m = X.shape\n",
    "    for i in range(n):\n",
    "        X_filtered = X[i]\n",
    "        X_filtered = np.reshape(X_filtered, (m//12, 12))\n",
    "        X_filtered = np.apply_along_axis(notch, 0, X_filtered)\n",
    "        X_filtered = np.apply_along_axis(bandpass, 0, X_filtered)\n",
    "        X_filtered = np.reshape(X_filtered, (1, m))\n",
    "        X[i] = X_filtered"
   ]
  },
  {
   "cell_type": "code",
   "execution_count": 12,
   "metadata": {
    "collapsed": true
   },
   "outputs": [],
   "source": [
    "import random\n",
    "random.seed(42)"
   ]
  },
  {
   "cell_type": "code",
   "execution_count": 65,
   "metadata": {},
   "outputs": [],
   "source": [
    "#Извлекаем фичи и сохраняем файлы для n=10, 20, ..., N\n",
    "def exctract_and_save(emg, features_list, feature_set_num, N=100, n_step=1, window_size=100, rate=2000, emg_len=5000, n_channels=12):\n",
    "    max_idx = rate / 1000 * (emg_len - window_size)\n",
    "    X_features = np.array([[] for _ in range(emg.shape[0])])\n",
    "    filename = 'data/ninaPro/DB2/featureSet{fs_num:d}/X_{i:d}_{rate:d}'\n",
    "    for i in range(1, N+1):\n",
    "        n = random.randint(0, max_idx-1)\n",
    "        extractor = random_feature_exctraction(\n",
    "            rate=rate, \n",
    "            window_size=window_size, \n",
    "            n_channels=n_channels, \n",
    "            window_begin=n, \n",
    "            features_list=features_list)\n",
    "        X_features = np.concatenate((X_features, extractor.exctract(emg)), axis=1)\n",
    "        if (i%n_step == 0):\n",
    "            np.save(filename.format(fs_num=feature_set_num, i=i, rate=rate), X_features)\n",
    "        print(i)"
   ]
  },
  {
   "cell_type": "code",
   "execution_count": 50,
   "metadata": {
    "collapsed": true
   },
   "outputs": [],
   "source": [
    "n = data.shape[1]\n",
    "X_2000 = data[:, :n-2]\n",
    "y = data[:, n-2]"
   ]
  },
  {
   "cell_type": "code",
   "execution_count": 51,
   "metadata": {},
   "outputs": [
    {
     "name": "stdout",
     "output_type": "stream",
     "text": [
      "(1680, 60000)\n"
     ]
    }
   ],
   "source": [
    "X_1000 = data[:, 0:n-2:2]\n",
    "print(X_1000.shape)"
   ]
  },
  {
   "cell_type": "code",
   "execution_count": 54,
   "metadata": {},
   "outputs": [],
   "source": [
    "filter_emg(X_2000)"
   ]
  },
  {
   "cell_type": "code",
   "execution_count": 55,
   "metadata": {
    "collapsed": true
   },
   "outputs": [],
   "source": [
    "filter_emg(X_1000)"
   ]
  },
  {
   "cell_type": "code",
   "execution_count": null,
   "metadata": {},
   "outputs": [],
   "source": [
    "featureSet1 = [mean_absolute_value, waveform_length, zero_crossing, slope_sign_changes]\n",
    "exctract_and_save(emg=X_2000, features_list=featureSet1, feature_set_num=1, n_step=5)"
   ]
  },
  {
   "cell_type": "code",
   "execution_count": null,
   "metadata": {},
   "outputs": [],
   "source": [
    "exctract_and_save(X_1000, featureSet1, 1, rate=1000)"
   ]
  },
  {
   "cell_type": "code",
   "execution_count": 14,
   "metadata": {
    "collapsed": true
   },
   "outputs": [],
   "source": [
    "#Зафиксируем количество классов\n",
    "N_CLASSES = 7"
   ]
  },
  {
   "cell_type": "code",
   "execution_count": 21,
   "metadata": {},
   "outputs": [],
   "source": [
    "#Разделим таргет на train/test. В тест запишем каждое 6 повторение\n",
    "n = y.shape[0]\n",
    "test_idx = range(5, n, 6)\n",
    "y_train = np.delete(y, test_idx, axis=0)\n",
    "y_test = y[test_idx]"
   ]
  },
  {
   "cell_type": "code",
   "execution_count": 22,
   "metadata": {},
   "outputs": [
    {
     "name": "stdout",
     "output_type": "stream",
     "text": [
      "(1400,)\n",
      "(280,)\n"
     ]
    }
   ],
   "source": [
    "print(y_train.shape)\n",
    "print(y_test.shape)"
   ]
  },
  {
   "cell_type": "code",
   "execution_count": 23,
   "metadata": {},
   "outputs": [
    {
     "name": "stderr",
     "output_type": "stream",
     "text": [
      "Using TensorFlow backend.\n"
     ]
    }
   ],
   "source": [
    "import keras\n",
    "from keras.models import Sequential\n",
    "from keras.layers import Dense, Dropout, Activation\n",
    "from keras.optimizers import SGD"
   ]
  },
  {
   "cell_type": "code",
   "execution_count": 24,
   "metadata": {
    "collapsed": true
   },
   "outputs": [],
   "source": [
    "y_train = keras.utils.to_categorical(y_train - 1, num_classes=N_CLASSES)\n",
    "y_test = keras.utils.to_categorical(y_test - 1, num_classes=N_CLASSES)"
   ]
  },
  {
   "cell_type": "code",
   "execution_count": 25,
   "metadata": {},
   "outputs": [
    {
     "name": "stdout",
     "output_type": "stream",
     "text": [
      "(1400, 7)\n",
      "(280, 7)\n"
     ]
    }
   ],
   "source": [
    "print(y_train.shape)\n",
    "print(y_test.shape)"
   ]
  },
  {
   "cell_type": "code",
   "execution_count": 67,
   "metadata": {
    "collapsed": true
   },
   "outputs": [],
   "source": [
    "def experiment(n, feature_set_num, rate):\n",
    "    #Загружаем данные, соотв. n - количество извлечений фич из окон по 100 мс\n",
    "    X = np.load('data/ninaPro/DB2/featureSet{num:d}/X_{n:d}_{r:d}.npy'.format(num=feature_set_num, n=n, r=rate))\n",
    "    #Разобьем на train и test признаки аналогично таргету\n",
    "    X_train = np.delete(X, test_idx, axis=0)\n",
    "    X_test = X[test_idx][:]\n",
    "    #Масштабируем фичи\n",
    "    scaler = MinMaxScaler()\n",
    "    scaler.fit(X_train)\n",
    "    X_train = scaler.transform(X_train)\n",
    "    X_test = scaler.transform(X_test)\n",
    "    #Создание модели\n",
    "    dim = X_train.shape[1]\n",
    "    model = Sequential()\n",
    "    model.add(Dense(36, activation='relu', input_dim=dim))\n",
    "    model.add(Dense(20, activation='relu'))\n",
    "    model.add(Dropout(0.2))\n",
    "    model.add(Dense(20, activation='relu'))\n",
    "    model.add(Dense(N_CLASSES, activation='softmax'))\n",
    "    \n",
    "    sgd = SGD(lr=0.001, decay=1e-6, momentum=0.9, nesterov=True)\n",
    "    model.compile(loss='categorical_crossentropy', optimizer=sgd, metrics=['accuracy'])\n",
    "    \n",
    "    #Обучение модели\n",
    "    model.fit(X_train, y_train, epochs=150, batch_size=50)\n",
    "    test_size = X_test.shape[0]\n",
    "    score = model.evaluate(X_test, y_test, batch_size=test_size)\n",
    "    \n",
    "    #Возвращаем итоговую метрику на тесте\n",
    "    return score[1]"
   ]
  },
  {
   "cell_type": "code",
   "execution_count": 71,
   "metadata": {},
   "outputs": [],
   "source": [
    "#Создадим массивы для построения графиков\n",
    "def arrays_for_plot(feature_set_n, rate):\n",
    "    n_windows = list(range(5, 101, 5))\n",
    "    metrics = []\n",
    "    for n in n_windows:\n",
    "        acc = experiment(n, feature_set_n, rate=rate)\n",
    "        metrics.append(acc)\n",
    "    return n_windows, metrics"
   ]
  },
  {
   "cell_type": "code",
   "execution_count": 31,
   "metadata": {},
   "outputs": [
    {
     "name": "stdout",
     "output_type": "stream",
     "text": [
      "Populating the interactive namespace from numpy and matplotlib\n"
     ]
    },
    {
     "name": "stderr",
     "output_type": "stream",
     "text": [
      "C:\\Users\\novon\\Anaconda3\\lib\\site-packages\\IPython\\core\\magics\\pylab.py:160: UserWarning: pylab import has clobbered these variables: ['random']\n",
      "`%matplotlib` prevents importing * from pylab and numpy\n",
      "  \"\\n`%matplotlib` prevents importing * from pylab and numpy\"\n"
     ]
    }
   ],
   "source": [
    "%pylab inline"
   ]
  },
  {
   "cell_type": "code",
   "execution_count": 69,
   "metadata": {},
   "outputs": [
    {
     "data": {
      "text/plain": [
       "<matplotlib.text.Text at 0x219d75ca080>"
      ]
     },
     "execution_count": 69,
     "metadata": {},
     "output_type": "execute_result"
    },
    {
     "data": {
      "image/png": "[encoded data removed]",
      "text/plain": [
       "<matplotlib.figure.Figure at 0x219c2f27c18>"
      ]
     },
     "metadata": {},
     "output_type": "display_data"
    }
   ],
   "source": [
    "pylab.grid(True)\n",
    "pylab.plot(n_windows, metrics, 'b-')\n",
    "pylab.ylabel('Accuracy')\n",
    "pylab.xlabel('Number of windows')"
   ]
  },
  {
   "cell_type": "code",
   "execution_count": null,
   "metadata": {},
   "outputs": [],
   "source": [
    "x, y = arrays_for_plot(feature_set_n=1, rate=1000)"
   ]
  },
  {
   "cell_type": "code",
   "execution_count": 73,
   "metadata": {},
   "outputs": [
    {
     "data": {
      "text/plain": [
       "<matplotlib.text.Text at 0x219eac92908>"
      ]
     },
     "execution_count": 73,
     "metadata": {},
     "output_type": "execute_result"
    },
    {
     "data": {
      "image/png": "[encoded data removed]",
      "text/plain": [
       "<matplotlib.figure.Figure at 0x219eab9bda0>"
      ]
     },
     "metadata": {},
     "output_type": "display_data"
    }
   ],
   "source": [
    "pylab.grid(True)\n",
    "pylab.plot(x, y, 'b-')\n",
    "pylab.ylabel('Accuracy')\n",
    "pylab.xlabel('Number of windows')"
   ]
  }
 ],
 "metadata": {
  "kernelspec": {
   "display_name": "Python 3",
   "language": "python",
   "name": "python3"
  },
  "language_info": {
   "codemirror_mode": {
    "name": "ipython",
    "version": 3
   },
   "file_extension": ".py",
   "mimetype": "text/x-python",
   "name": "python",
   "nbconvert_exporter": "python",
   "pygments_lexer": "ipython3",
   "version": "3.6.2"
  }
 },
 "nbformat": 4,
 "nbformat_minor": 2
}
